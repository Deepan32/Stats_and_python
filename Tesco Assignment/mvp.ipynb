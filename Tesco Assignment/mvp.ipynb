{
 "cells": [
  {
   "cell_type": "code",
   "execution_count": 17,
   "metadata": {},
   "outputs": [],
   "source": [
    "#loading the required packages\n",
    "import numpy as np \n",
    "import pandas as pd\n",
    "import matplotlib.pyplot as plt \n",
    "import plotnine as p9 \n",
    "import seaborn as sns\n",
    "from scipy import stats\n",
    "from sklearn.preprocessing import OrdinalEncoder\n",
    "from sklearn.preprocessing import OneHotEncoder"
   ]
  },
  {
   "cell_type": "code",
   "execution_count": 3,
   "metadata": {},
   "outputs": [
    {
     "name": "stdout",
     "output_type": "stream",
     "text": [
      "The shape of the dataset :(320, 16)\n"
     ]
    },
    {
     "data": {
      "text/html": [
       "<div>\n",
       "<style scoped>\n",
       "    .dataframe tbody tr th:only-of-type {\n",
       "        vertical-align: middle;\n",
       "    }\n",
       "\n",
       "    .dataframe tbody tr th {\n",
       "        vertical-align: top;\n",
       "    }\n",
       "\n",
       "    .dataframe thead th {\n",
       "        text-align: right;\n",
       "    }\n",
       "</style>\n",
       "<table border=\"1\" class=\"dataframe\">\n",
       "  <thead>\n",
       "    <tr style=\"text-align: right;\">\n",
       "      <th></th>\n",
       "      <th>location_id</th>\n",
       "      <th>crime_rate</th>\n",
       "      <th>proportion_flats</th>\n",
       "      <th>proportion_nonretail</th>\n",
       "      <th>new_store</th>\n",
       "      <th>commercial_property</th>\n",
       "      <th>household_size</th>\n",
       "      <th>proportion_newbuilds</th>\n",
       "      <th>public_transport_dist</th>\n",
       "      <th>transport_availability</th>\n",
       "      <th>property_value</th>\n",
       "      <th>school_proximity</th>\n",
       "      <th>competitor_density</th>\n",
       "      <th>household_affluency</th>\n",
       "      <th>normalised_sales</th>\n",
       "      <th>county</th>\n",
       "    </tr>\n",
       "  </thead>\n",
       "  <tbody>\n",
       "    <tr>\n",
       "      <th>0</th>\n",
       "      <td>464</td>\n",
       "      <td>17.600541</td>\n",
       "      <td>0.0</td>\n",
       "      <td>18.10</td>\n",
       "      <td>no</td>\n",
       "      <td>NaN</td>\n",
       "      <td>2.926</td>\n",
       "      <td>29.0</td>\n",
       "      <td>2.9084</td>\n",
       "      <td>All transport options</td>\n",
       "      <td>666</td>\n",
       "      <td>20.2</td>\n",
       "      <td>368.74</td>\n",
       "      <td>4.5325</td>\n",
       "      <td>-0.399933</td>\n",
       "      <td>c_40</td>\n",
       "    </tr>\n",
       "    <tr>\n",
       "      <th>1</th>\n",
       "      <td>504</td>\n",
       "      <td>0.603556</td>\n",
       "      <td>20.0</td>\n",
       "      <td>3.97</td>\n",
       "      <td>no</td>\n",
       "      <td>14.85</td>\n",
       "      <td>4.520</td>\n",
       "      <td>10.6</td>\n",
       "      <td>2.1398</td>\n",
       "      <td>Average transport options</td>\n",
       "      <td>264</td>\n",
       "      <td>13.0</td>\n",
       "      <td>388.37</td>\n",
       "      <td>1.8150</td>\n",
       "      <td>2.216308</td>\n",
       "      <td>c_80</td>\n",
       "    </tr>\n",
       "    <tr>\n",
       "      <th>2</th>\n",
       "      <td>295</td>\n",
       "      <td>0.606810</td>\n",
       "      <td>0.0</td>\n",
       "      <td>6.20</td>\n",
       "      <td>no</td>\n",
       "      <td>7.70</td>\n",
       "      <td>2.981</td>\n",
       "      <td>31.9</td>\n",
       "      <td>3.6715</td>\n",
       "      <td>Many transport options</td>\n",
       "      <td>307</td>\n",
       "      <td>17.4</td>\n",
       "      <td>378.35</td>\n",
       "      <td>2.9125</td>\n",
       "      <td>0.166920</td>\n",
       "      <td>c_53</td>\n",
       "    </tr>\n",
       "    <tr>\n",
       "      <th>3</th>\n",
       "      <td>187</td>\n",
       "      <td>0.012385</td>\n",
       "      <td>55.0</td>\n",
       "      <td>2.25</td>\n",
       "      <td>no</td>\n",
       "      <td>1.95</td>\n",
       "      <td>3.453</td>\n",
       "      <td>68.1</td>\n",
       "      <td>7.3073</td>\n",
       "      <td>No transport options</td>\n",
       "      <td>300</td>\n",
       "      <td>15.3</td>\n",
       "      <td>394.72</td>\n",
       "      <td>2.0575</td>\n",
       "      <td>-0.083804</td>\n",
       "      <td>c_65</td>\n",
       "    </tr>\n",
       "    <tr>\n",
       "      <th>4</th>\n",
       "      <td>193</td>\n",
       "      <td>0.016182</td>\n",
       "      <td>100.0</td>\n",
       "      <td>1.32</td>\n",
       "      <td>no</td>\n",
       "      <td>3.05</td>\n",
       "      <td>3.816</td>\n",
       "      <td>59.5</td>\n",
       "      <td>8.3248</td>\n",
       "      <td>Average transport options</td>\n",
       "      <td>256</td>\n",
       "      <td>15.1</td>\n",
       "      <td>392.90</td>\n",
       "      <td>0.9875</td>\n",
       "      <td>0.962693</td>\n",
       "      <td>c_97</td>\n",
       "    </tr>\n",
       "  </tbody>\n",
       "</table>\n",
       "</div>"
      ],
      "text/plain": [
       "   location_id  crime_rate  proportion_flats  proportion_nonretail new_store  \\\n",
       "0          464   17.600541               0.0                 18.10        no   \n",
       "1          504    0.603556              20.0                  3.97        no   \n",
       "2          295    0.606810               0.0                  6.20        no   \n",
       "3          187    0.012385              55.0                  2.25        no   \n",
       "4          193    0.016182             100.0                  1.32        no   \n",
       "\n",
       "   commercial_property  household_size  proportion_newbuilds  \\\n",
       "0                  NaN           2.926                  29.0   \n",
       "1                14.85           4.520                  10.6   \n",
       "2                 7.70           2.981                  31.9   \n",
       "3                 1.95           3.453                  68.1   \n",
       "4                 3.05           3.816                  59.5   \n",
       "\n",
       "   public_transport_dist     transport_availability  property_value  \\\n",
       "0                 2.9084      All transport options             666   \n",
       "1                 2.1398  Average transport options             264   \n",
       "2                 3.6715     Many transport options             307   \n",
       "3                 7.3073       No transport options             300   \n",
       "4                 8.3248  Average transport options             256   \n",
       "\n",
       "   school_proximity  competitor_density  household_affluency  \\\n",
       "0              20.2              368.74               4.5325   \n",
       "1              13.0              388.37               1.8150   \n",
       "2              17.4              378.35               2.9125   \n",
       "3              15.3              394.72               2.0575   \n",
       "4              15.1              392.90               0.9875   \n",
       "\n",
       "   normalised_sales county  \n",
       "0         -0.399933   c_40  \n",
       "1          2.216308   c_80  \n",
       "2          0.166920   c_53  \n",
       "3         -0.083804   c_65  \n",
       "4          0.962693   c_97  "
      ]
     },
     "execution_count": 3,
     "metadata": {},
     "output_type": "execute_result"
    }
   ],
   "source": [
    "#Fetching the data\n",
    "raw_data = pd.read_csv('./data/tesco-dataset/train.csv')\n",
    "print('The shape of the dataset :' + str(raw_data.shape))\n",
    "raw_data.head()"
   ]
  },
  {
   "cell_type": "markdown",
   "metadata": {},
   "source": [
    "# Plan for modelling (MVP):\n",
    "* Usuals - > Train_test split, target variable split, \n",
    "1. Missing values for school_proximity and commercial_property - Start with median imputation and check the model accuracy\n",
    "2. Categorical encoding\n",
    "    1. Binary encoding for new_store feature\n",
    "    2. Ordinal encoding for transport_availability feature\n",
    "    3. Group counties to high, medium, low sales\n",
    "3. Outlier handling if requred - not for MVP\n",
    "4. Feature selection\n",
    "5. Model development "
   ]
  },
  {
   "cell_type": "code",
   "execution_count": null,
   "metadata": {},
   "outputs": [],
   "source": [
    "# train_test split\n"
   ]
  },
  {
   "cell_type": "code",
   "execution_count": 15,
   "metadata": {},
   "outputs": [],
   "source": [
    "# Ordinal transformation\n",
    "order=[['No transport options','Few transport options','Average transport options','Many transport options','All transport options'        \n",
    "        ]]\n",
    "ordinal_encoder = OrdinalEncoder(categories=order)\n",
    "transport_availability_encoded= ordinal_encoder.fit_transform(raw_data[[\"transport_availability\"]])\n",
    "ordinal_encoder.categories_"
   ]
  },
  {
   "cell_type": "code",
   "execution_count": 22,
   "metadata": {},
   "outputs": [
    {
     "data": {
      "text/plain": [
       "[array(['no', 'yes'], dtype=object)]"
      ]
     },
     "execution_count": 22,
     "metadata": {},
     "output_type": "execute_result"
    }
   ],
   "source": [
    "# onehot transformation\n",
    "cat_encoder = OneHotEncoder(drop='if_binary')\n",
    "new_store_encoded= cat_encoder.fit_transform(raw_data[[\"new_store\"]])\n",
    "cat_encoder.categories_"
   ]
  },
  {
   "cell_type": "code",
   "execution_count": null,
   "metadata": {},
   "outputs": [],
   "source": [
    "# Finish the pipeline\n"
   ]
  }
 ],
 "metadata": {
  "kernelspec": {
   "display_name": "Python 3",
   "language": "python",
   "name": "python3"
  },
  "language_info": {
   "codemirror_mode": {
    "name": "ipython",
    "version": 3
   },
   "file_extension": ".py",
   "mimetype": "text/x-python",
   "name": "python",
   "nbconvert_exporter": "python",
   "pygments_lexer": "ipython3",
   "version": "3.11.4"
  }
 },
 "nbformat": 4,
 "nbformat_minor": 2
}
