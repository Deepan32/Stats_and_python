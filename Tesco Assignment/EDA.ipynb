{
 "cells": [
  {
   "cell_type": "markdown",
   "metadata": {},
   "source": [
    "# Basic EDA and Visualization\n",
    "\n",
    "1. Understanding the datasets - Basic infos\n",
    "2. Data Quality Checks\n",
    "    1. Missing Value\n",
    "    2. Outlier Check\n",
    "    3. Duplicate Check\n",
    "    4. Dataset column type checks\n",
    "3. Univariate, BiVariate, MultiVariate Analysis and Visualization"
   ]
  },
  {
   "cell_type": "code",
   "execution_count": 2,
   "metadata": {},
   "outputs": [],
   "source": [
    "#loading the required packages\n",
    "import numpy as np \n",
    "import pandas as pd\n",
    "import matplotlib.pyplot as plt \n",
    "import plotnine as p9 \n",
    "import seaborn as sns\n",
    "from scipy import stats\n",
    "from mizani.formatters import percent_format\n",
    "\n",
    "import warnings\n",
    "warnings.filterwarnings('ignore')\n",
    "\n",
    "%matplotlib inline \n"
   ]
  },
  {
   "cell_type": "code",
   "execution_count": 6,
   "metadata": {},
   "outputs": [
    {
     "name": "stdout",
     "output_type": "stream",
     "text": [
      "The shape of the dataset :(320, 16)\n"
     ]
    },
    {
     "data": {
      "text/html": [
       "<div>\n",
       "<style scoped>\n",
       "    .dataframe tbody tr th:only-of-type {\n",
       "        vertical-align: middle;\n",
       "    }\n",
       "\n",
       "    .dataframe tbody tr th {\n",
       "        vertical-align: top;\n",
       "    }\n",
       "\n",
       "    .dataframe thead th {\n",
       "        text-align: right;\n",
       "    }\n",
       "</style>\n",
       "<table border=\"1\" class=\"dataframe\">\n",
       "  <thead>\n",
       "    <tr style=\"text-align: right;\">\n",
       "      <th></th>\n",
       "      <th>location_id</th>\n",
       "      <th>crime_rate</th>\n",
       "      <th>proportion_flats</th>\n",
       "      <th>proportion_nonretail</th>\n",
       "      <th>new_store</th>\n",
       "      <th>commercial_property</th>\n",
       "      <th>household_size</th>\n",
       "      <th>proportion_newbuilds</th>\n",
       "      <th>public_transport_dist</th>\n",
       "      <th>transport_availability</th>\n",
       "      <th>property_value</th>\n",
       "      <th>school_proximity</th>\n",
       "      <th>competitor_density</th>\n",
       "      <th>household_affluency</th>\n",
       "      <th>normalised_sales</th>\n",
       "      <th>county</th>\n",
       "    </tr>\n",
       "  </thead>\n",
       "  <tbody>\n",
       "    <tr>\n",
       "      <th>0</th>\n",
       "      <td>464</td>\n",
       "      <td>17.600541</td>\n",
       "      <td>0.0</td>\n",
       "      <td>18.10</td>\n",
       "      <td>no</td>\n",
       "      <td>NaN</td>\n",
       "      <td>2.926</td>\n",
       "      <td>29.0</td>\n",
       "      <td>2.9084</td>\n",
       "      <td>All transport options</td>\n",
       "      <td>666</td>\n",
       "      <td>20.2</td>\n",
       "      <td>368.74</td>\n",
       "      <td>4.5325</td>\n",
       "      <td>-0.399933</td>\n",
       "      <td>c_40</td>\n",
       "    </tr>\n",
       "    <tr>\n",
       "      <th>1</th>\n",
       "      <td>504</td>\n",
       "      <td>0.603556</td>\n",
       "      <td>20.0</td>\n",
       "      <td>3.97</td>\n",
       "      <td>no</td>\n",
       "      <td>14.85</td>\n",
       "      <td>4.520</td>\n",
       "      <td>10.6</td>\n",
       "      <td>2.1398</td>\n",
       "      <td>Average transport options</td>\n",
       "      <td>264</td>\n",
       "      <td>13.0</td>\n",
       "      <td>388.37</td>\n",
       "      <td>1.8150</td>\n",
       "      <td>2.216308</td>\n",
       "      <td>c_80</td>\n",
       "    </tr>\n",
       "    <tr>\n",
       "      <th>2</th>\n",
       "      <td>295</td>\n",
       "      <td>0.606810</td>\n",
       "      <td>0.0</td>\n",
       "      <td>6.20</td>\n",
       "      <td>no</td>\n",
       "      <td>7.70</td>\n",
       "      <td>2.981</td>\n",
       "      <td>31.9</td>\n",
       "      <td>3.6715</td>\n",
       "      <td>Many transport options</td>\n",
       "      <td>307</td>\n",
       "      <td>17.4</td>\n",
       "      <td>378.35</td>\n",
       "      <td>2.9125</td>\n",
       "      <td>0.166920</td>\n",
       "      <td>c_53</td>\n",
       "    </tr>\n",
       "    <tr>\n",
       "      <th>3</th>\n",
       "      <td>187</td>\n",
       "      <td>0.012385</td>\n",
       "      <td>55.0</td>\n",
       "      <td>2.25</td>\n",
       "      <td>no</td>\n",
       "      <td>1.95</td>\n",
       "      <td>3.453</td>\n",
       "      <td>68.1</td>\n",
       "      <td>7.3073</td>\n",
       "      <td>No transport options</td>\n",
       "      <td>300</td>\n",
       "      <td>15.3</td>\n",
       "      <td>394.72</td>\n",
       "      <td>2.0575</td>\n",
       "      <td>-0.083804</td>\n",
       "      <td>c_65</td>\n",
       "    </tr>\n",
       "    <tr>\n",
       "      <th>4</th>\n",
       "      <td>193</td>\n",
       "      <td>0.016182</td>\n",
       "      <td>100.0</td>\n",
       "      <td>1.32</td>\n",
       "      <td>no</td>\n",
       "      <td>3.05</td>\n",
       "      <td>3.816</td>\n",
       "      <td>59.5</td>\n",
       "      <td>8.3248</td>\n",
       "      <td>Average transport options</td>\n",
       "      <td>256</td>\n",
       "      <td>15.1</td>\n",
       "      <td>392.90</td>\n",
       "      <td>0.9875</td>\n",
       "      <td>0.962693</td>\n",
       "      <td>c_97</td>\n",
       "    </tr>\n",
       "  </tbody>\n",
       "</table>\n",
       "</div>"
      ],
      "text/plain": [
       "   location_id  crime_rate  proportion_flats  proportion_nonretail new_store  \\\n",
       "0          464   17.600541               0.0                 18.10        no   \n",
       "1          504    0.603556              20.0                  3.97        no   \n",
       "2          295    0.606810               0.0                  6.20        no   \n",
       "3          187    0.012385              55.0                  2.25        no   \n",
       "4          193    0.016182             100.0                  1.32        no   \n",
       "\n",
       "   commercial_property  household_size  proportion_newbuilds  \\\n",
       "0                  NaN           2.926                  29.0   \n",
       "1                14.85           4.520                  10.6   \n",
       "2                 7.70           2.981                  31.9   \n",
       "3                 1.95           3.453                  68.1   \n",
       "4                 3.05           3.816                  59.5   \n",
       "\n",
       "   public_transport_dist     transport_availability  property_value  \\\n",
       "0                 2.9084      All transport options             666   \n",
       "1                 2.1398  Average transport options             264   \n",
       "2                 3.6715     Many transport options             307   \n",
       "3                 7.3073       No transport options             300   \n",
       "4                 8.3248  Average transport options             256   \n",
       "\n",
       "   school_proximity  competitor_density  household_affluency  \\\n",
       "0              20.2              368.74               4.5325   \n",
       "1              13.0              388.37               1.8150   \n",
       "2              17.4              378.35               2.9125   \n",
       "3              15.3              394.72               2.0575   \n",
       "4              15.1              392.90               0.9875   \n",
       "\n",
       "   normalised_sales county  \n",
       "0         -0.399933   c_40  \n",
       "1          2.216308   c_80  \n",
       "2          0.166920   c_53  \n",
       "3         -0.083804   c_65  \n",
       "4          0.962693   c_97  "
      ]
     },
     "execution_count": 6,
     "metadata": {},
     "output_type": "execute_result"
    }
   ],
   "source": [
    "#Fetching the data\n",
    "raw_data = pd.read_csv('./data/tesco-dataset/train.csv')\n",
    "print('The shape of the dataset :' + str(raw_data.shape))\n",
    "raw_data.head()"
   ]
  },
  {
   "cell_type": "markdown",
   "metadata": {},
   "source": [
    "## Checking dtype"
   ]
  },
  {
   "cell_type": "code",
   "execution_count": 10,
   "metadata": {},
   "outputs": [
    {
     "name": "stdout",
     "output_type": "stream",
     "text": [
      "<class 'pandas.core.frame.DataFrame'>\n",
      "RangeIndex: 320 entries, 0 to 319\n",
      "Data columns (total 16 columns):\n",
      " #   Column                  Non-Null Count  Dtype  \n",
      "---  ------                  --------------  -----  \n",
      " 0   location_id             320 non-null    int64  \n",
      " 1   crime_rate              320 non-null    float64\n",
      " 2   proportion_flats        320 non-null    float64\n",
      " 3   proportion_nonretail    320 non-null    float64\n",
      " 4   new_store               320 non-null    object \n",
      " 5   commercial_property     291 non-null    float64\n",
      " 6   household_size          320 non-null    float64\n",
      " 7   proportion_newbuilds    320 non-null    float64\n",
      " 8   public_transport_dist   320 non-null    float64\n",
      " 9   transport_availability  320 non-null    object \n",
      " 10  property_value          320 non-null    int64  \n",
      " 11  school_proximity        257 non-null    float64\n",
      " 12  competitor_density      320 non-null    float64\n",
      " 13  household_affluency     320 non-null    float64\n",
      " 14  normalised_sales        320 non-null    float64\n",
      " 15  county                  320 non-null    object \n",
      "dtypes: float64(11), int64(2), object(3)\n",
      "memory usage: 40.1+ KB\n"
     ]
    }
   ],
   "source": [
    "raw_data.info()"
   ]
  },
  {
   "cell_type": "markdown",
   "metadata": {},
   "source": [
    "## Categorical data\n"
   ]
  },
  {
   "cell_type": "code",
   "execution_count": 11,
   "metadata": {},
   "outputs": [
    {
     "data": {
      "text/plain": [
       "new_store\n",
       "no     301\n",
       "yes     19\n",
       "Name: count, dtype: int64"
      ]
     },
     "execution_count": 11,
     "metadata": {},
     "output_type": "execute_result"
    }
   ],
   "source": [
    "raw_data[\"new_store\"].value_counts()"
   ]
  },
  {
   "cell_type": "markdown",
   "metadata": {},
   "source": [
    "### Comments on new_store column:  \n",
    "1. This has only 2 values.\n",
    "2. Should be converted into boolean column"
   ]
  },
  {
   "cell_type": "code",
   "execution_count": 12,
   "metadata": {},
   "outputs": [
    {
     "data": {
      "text/plain": [
       "transport_availability\n",
       "All transport options        84\n",
       "Average transport options    72\n",
       "Few transport options        69\n",
       "No transport options         53\n",
       "Many transport options       42\n",
       "Name: count, dtype: int64"
      ]
     },
     "execution_count": 12,
     "metadata": {},
     "output_type": "execute_result"
    }
   ],
   "source": [
    "raw_data[\"transport_availability\"].value_counts()"
   ]
  },
  {
   "cell_type": "markdown",
   "metadata": {},
   "source": [
    "### Comments on transport_availability column:  \n",
    "1. Looks like ordinal column. \n",
    "2. Should be converted into an ordered column in this order\n",
    "    1. All transport options > Many transport options > Average transport options > Few transport options > No transport options."
   ]
  },
  {
   "cell_type": "code",
   "execution_count": 40,
   "metadata": {},
   "outputs": [
    {
     "data": {
      "text/plain": [
       "county\n",
       "c_128    2\n",
       "c_28     2\n",
       "c_93     2\n",
       "c_92     2\n",
       "c_37     2\n",
       "c_34     2\n",
       "c_30     2\n",
       "c_116    2\n",
       "c_40     2\n",
       "c_43     2\n",
       "c_90     2\n",
       "c_31     2\n",
       "c_51     2\n",
       "c_47     2\n",
       "c_98     2\n",
       "c_36     2\n",
       "c_95     2\n",
       "c_81     2\n",
       "c_85     2\n",
       "c_75     2\n",
       "c_133    1\n",
       "c_112    1\n",
       "c_21     1\n",
       "c_32     1\n",
       "c_123    1\n",
       "c_91     1\n",
       "c_122    1\n",
       "c_0      1\n",
       "c_110    1\n",
       "c_79     1\n",
       "c_114    1\n",
       "c_15     1\n",
       "c_33     1\n",
       "c_20     1\n",
       "c_137    1\n",
       "c_97     1\n",
       "c_22     1\n",
       "c_16     1\n",
       "c_89     1\n",
       "c_103    1\n",
       "c_138    1\n",
       "c_96     1\n",
       "c_100    1\n",
       "c_144    1\n",
       "c_9      1\n",
       "c_111    1\n",
       "c_107    1\n",
       "c_7      1\n",
       "c_139    1\n",
       "c_99     1\n",
       "Name: count, dtype: int64"
      ]
     },
     "execution_count": 40,
     "metadata": {},
     "output_type": "execute_result"
    }
   ],
   "source": [
    "raw_data[\"county\"].value_counts().tail(50)"
   ]
  },
  {
   "cell_type": "markdown",
   "metadata": {},
   "source": [
    "#### Comments on county column:\n",
    "1. High cardinality\n",
    "2. Considering only top 10 columns and remaining columns as 'others' - This is an option\n",
    "3. Have to check correlation with sales to gain more clarity"
   ]
  },
  {
   "cell_type": "markdown",
   "metadata": {},
   "source": [
    "#### Further analysis on county column"
   ]
  },
  {
   "cell_type": "markdown",
   "metadata": {},
   "source": [
    "#### Checking if there is correlation between frequency and sales in the county"
   ]
  },
  {
   "cell_type": "code",
   "execution_count": 37,
   "metadata": {},
   "outputs": [
    {
     "data": {
      "text/plain": [
       "-0.3244946825682793"
      ]
     },
     "execution_count": 37,
     "metadata": {},
     "output_type": "execute_result"
    }
   ],
   "source": [
    "freq=raw_data[\"county\"].value_counts()\n",
    "\n",
    "sales=(raw_data\n",
    " .groupby(\"county\")\n",
    " .aggregate({\"normalised_sales\":\"mean\"})\n",
    " .reset_index()\n",
    ")\n",
    "\n",
    "merged_df=pd.merge(freq,sales,on=\"county\" )\n",
    "\n",
    "merged_df[\"count\"].corr(merged_df[\"normalised_sales\"])"
   ]
  },
  {
   "cell_type": "markdown",
   "metadata": {},
   "source": [
    "* No correlation "
   ]
  },
  {
   "cell_type": "markdown",
   "metadata": {},
   "source": [
    "Considering only top 10 columns and remaining columns as 'others'"
   ]
  },
  {
   "cell_type": "markdown",
   "metadata": {},
   "source": [
    "#### Approach for handling \"county\":\n",
    "\n",
    "* Going with Target variable based grouping - high, medium, low - with respect to sales\n"
   ]
  },
  {
   "cell_type": "markdown",
   "metadata": {},
   "source": [
    "## Numerical columns"
   ]
  },
  {
   "cell_type": "code",
   "execution_count": 48,
   "metadata": {},
   "outputs": [],
   "source": [
    "# Fetching numerical columns\n",
    "numerical_columns=raw_data.select_dtypes(include=['int64', 'float64']).columns.to_list()"
   ]
  },
  {
   "cell_type": "code",
   "execution_count": null,
   "metadata": {},
   "outputs": [],
   "source": [
    "#Checking the distribution for numerical variables \n",
    "for var in numerical_cols:\n",
    "    print(\n",
    "        (\n",
    "             p9.ggplot(raw_data)\n",
    "            +p9.aes(x=var)\n",
    "            +p9.geom_bar()\n",
    "            +p9.theme(figure_size=(6,3))\n",
    "            +p9.facet_wrap(\"matched\")\n",
    "            + p9.facet_wrap(\"~matched\", scales='free_y')\n",
    "        )\n",
    "    )"
   ]
  },
  {
   "cell_type": "code",
   "execution_count": null,
   "metadata": {},
   "outputs": [],
   "source": []
  },
  {
   "cell_type": "code",
   "execution_count": null,
   "metadata": {},
   "outputs": [],
   "source": []
  },
  {
   "cell_type": "code",
   "execution_count": null,
   "metadata": {},
   "outputs": [],
   "source": []
  },
  {
   "cell_type": "markdown",
   "metadata": {},
   "source": [
    "## Missing value checks"
   ]
  },
  {
   "cell_type": "code",
   "execution_count": 8,
   "metadata": {},
   "outputs": [
    {
     "data": {
      "text/plain": [
       "location_id                0\n",
       "crime_rate                 0\n",
       "proportion_flats           0\n",
       "proportion_nonretail       0\n",
       "new_store                  0\n",
       "commercial_property       29\n",
       "household_size             0\n",
       "proportion_newbuilds       0\n",
       "public_transport_dist      0\n",
       "transport_availability     0\n",
       "property_value             0\n",
       "school_proximity          63\n",
       "competitor_density         0\n",
       "household_affluency        0\n",
       "normalised_sales           0\n",
       "county                     0\n",
       "dtype: int64"
      ]
     },
     "execution_count": 8,
     "metadata": {},
     "output_type": "execute_result"
    }
   ],
   "source": [
    "(\n",
    "raw_data\n",
    ".isna()\n",
    ".sum()\n",
    ")"
   ]
  },
  {
   "cell_type": "markdown",
   "metadata": {},
   "source": [
    "### Missing values in the follwing columns: \n",
    "1. commercial_property\n",
    "2. school_proximity"
   ]
  },
  {
   "cell_type": "markdown",
   "metadata": {},
   "source": [
    "# Numerical - Univariate"
   ]
  },
  {
   "cell_type": "code",
   "execution_count": null,
   "metadata": {},
   "outputs": [],
   "source": [
    "for var in feature_cols:\n",
    "    print(\n",
    "        (\n",
    "             p9.ggplot(raw_data)\n",
    "            +p9.aes(x=var)\n",
    "            +p9.geom_bar()\n",
    "            +p9.theme(figure_size=(6,3))\n",
    "            +p9.facet_wrap(\"matched\")\n",
    "            + p9.facet_wrap(\"~matched\", scales='free_y')\n",
    "        )\n",
    "    )"
   ]
  }
 ],
 "metadata": {
  "kernelspec": {
   "display_name": "Python 3",
   "language": "python",
   "name": "python3"
  },
  "language_info": {
   "codemirror_mode": {
    "name": "ipython",
    "version": 3
   },
   "file_extension": ".py",
   "mimetype": "text/x-python",
   "name": "python",
   "nbconvert_exporter": "python",
   "pygments_lexer": "ipython3",
   "version": "3.11.4"
  }
 },
 "nbformat": 4,
 "nbformat_minor": 2
}
